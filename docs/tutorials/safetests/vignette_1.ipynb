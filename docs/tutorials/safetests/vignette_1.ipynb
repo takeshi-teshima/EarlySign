{
 "cells": [
  {
   "cell_type": "markdown",
   "id": "4d18d1bf",
   "metadata": {},
   "source": [
    "This notebook replicates the tutorial in https://cran.r-project.org/web/packages/safestats/vignettes/contingency-tables-vignette.html by using the code of this repository."
   ]
  },
  {
   "cell_type": "code",
   "execution_count": 3,
   "id": "ec0f7e29",
   "metadata": {},
   "outputs": [
    {
     "name": "stdout",
     "output_type": "stream",
     "text": [
      "zsh:1: no matches found: earlysign[examples]\n"
     ]
    }
   ],
   "source": [
    "!pip install earlysign[examples]"
   ]
  },
  {
   "cell_type": "code",
   "execution_count": null,
   "id": "b0dcc0fa",
   "metadata": {},
   "outputs": [],
   "source": [
    "ya = [0,0,1,0,1,0,0,0,0,0]\n",
    "yb = [1,1,1,1,1,1,0,1,1,1]\n",
    "\n",
    "from earlysign import designer\n",
    "\n",
    "design = designer.safe_two_proportions(\n",
    "    na=1, nb=1, # block sizes in each variant\n",
    "    alpha=.05, # significance level\n",
    "    power=.8, # statistical power\n",
    "    effect=.3 # minimal detectable effect\n",
    ")\n",
    "\n",
    "print(design)\n",
    "#=>  Safe Test of Two Proportions Design\n",
    "#=>  na±2se, nb±2se, nBlocksPlan±2se = 1±0, 1±0, 95±5.042694\n",
    "#=> decision rule: e-value > 1/alpha = 20\n",
    "#=> Note: Optimality of hyperparameters only verified for equal group sizes (na = nb = 1)"
   ]
  },
  {
   "cell_type": "code",
   "execution_count": null,
   "id": "369e40ab",
   "metadata": {},
   "outputs": [
    {
     "ename": "",
     "evalue": "",
     "output_type": "error",
     "traceback": [
      "\u001b[1;31mRunning cells with 'earlysign-py3.11 (Python 3.11.1)' requires the ipykernel package.\n",
      "\u001b[1;31mInstall 'ipykernel' into the Python environment. \n",
      "\u001b[1;31mCommand: '/Users/teshima/2025/EarlySign/.venv/bin/python -m pip install ipykernel -U --force-reinstall'"
     ]
    }
   ],
   "source": [
    "import numpy as np\n",
    "import matplotlib.pyplot as plt\n",
    "\n",
    "np.random.seed(19012023)\n",
    "successProbabilityA = 0.2\n",
    "successProbabilityB = 0.5\n",
    "nBlocksPlan = int(design['nBlocksPlan'])  # use nBlocksPlan from the design variable\n",
    "\n",
    "ya = np.random.binomial(n=1, p=successProbabilityA, size=nBlocksPlan)\n",
    "yb = np.random.binomial(n=1, p=successProbabilityB, size=nBlocksPlan)\n",
    "\n",
    "plt.plot(np.arange(1, nBlocksPlan + 1), np.cumsum(ya), 'o', label='A', color='black')\n",
    "plt.plot(np.arange(1, nBlocksPlan + 1), np.cumsum(yb), 'o', label='B', color='grey')\n",
    "plt.ylim(0, max(np.sum(ya), np.sum(yb)))\n",
    "plt.xlabel(\"block number\")\n",
    "plt.ylabel(\"# successes\")\n",
    "plt.title(\"Total # successes per group over time\")\n",
    "plt.legend(loc='upper left')\n",
    "plt.show()"
   ]
  },
  {
   "cell_type": "code",
   "execution_count": null,
   "id": "58dc8cc4",
   "metadata": {},
   "outputs": [],
   "source": []
  }
 ],
 "metadata": {
  "kernelspec": {
   "display_name": "earlysign-py3.11",
   "language": "python",
   "name": "python3"
  },
  "language_info": {
   "codemirror_mode": {
    "name": "ipython",
    "version": 3
   },
   "file_extension": ".py",
   "mimetype": "text/x-python",
   "name": "python",
   "nbconvert_exporter": "python",
   "pygments_lexer": "ipython3",
   "version": "3.11.1"
  }
 },
 "nbformat": 4,
 "nbformat_minor": 5
}
